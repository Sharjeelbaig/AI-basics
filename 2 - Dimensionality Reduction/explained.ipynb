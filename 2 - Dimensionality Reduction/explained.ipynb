{
 "cells": [
  {
   "cell_type": "markdown",
   "metadata": {},
   "source": [
    "# Dimensionality Reduction Using PCA\n",
    "PCA is a technique used to reduce the dimensionality of the data by projecting the data onto a lower-dimensional subspace.\n",
    "e.g. if we have a 3D dataset, we can project it onto a 2D subspace.\n",
    "\n",
    "#### Why do we need Dimensionality Reduction?\n",
    "- Visualization: It is difficult to visualize data in higher dimensions.\n",
    "- Computation: It is computationally expensive to work with high-dimensional data.\n",
    "- Curse of Dimensionality: As the number of dimensions increases, the number of data points required to generalize accurately grows exponentially.\n",
    "\n",
    "#### Steps involved in PCA:\n",
    "1. Standardize the data.\n",
    "2. Compute the covariance matrix.\n",
    "3. Compute the eigenvectors and eigenvalues of the covariance matrix.\n",
    "4. Sort the eigenvectors by decreasing eigenvalues and choose the top k eigenvectors.\n",
    "5. Construct the projection matrix W from the selected k eigenvectors.\n",
    "6. Transform the original dataset X via W to obtain a k-dimensional feature subspace Y.\n",
    "\n",
    "#### PCA in Python:\n",
    "```python\n",
    "from sklearn.decomposition import PCA\n",
    "pca = PCA(n_components=2)\n",
    "X_pca = pca.fit_transform(X)\n",
    "```\n",
    "\n",
    "#### Dimensionality Reduction in python:\n",
    "```python\n",
    "# Importing the libraries\n",
    "import numpy as np\n",
    "import pandas as pd\n",
    "import matplotlib.pyplot as plt\n",
    "from sklearn.decomposition import PCA\n",
    "\n",
    "# Load the data\n",
    "data = pd.read_csv('data.csv')\n",
    "X = data.iloc[:, :-1].values # can also use data.drop('target', axis=1) or annything depending on what we are trying to do\n",
    "y = data.iloc[:, -1].values # can also use data['target']\n",
    "\n",
    "# apply PCA\n",
    "pca = PCA(n_components=2)\n",
    "X_pca = pca.fit_transform(X) # this is the reduced dimensionality data :D\n",
    "```"
   ]
  },
  {
   "cell_type": "markdown",
   "metadata": {},
   "source": [
    "# Example\n",
    "we have a dataset programming languages trends over time.csv which contains the trends of programming languages over different years. We will use PCA to reduce the dimensionality of the data and visualize it in 2D.\n"
   ]
  },
  {
   "cell_type": "code",
   "execution_count": 2,
   "metadata": {},
   "outputs": [],
   "source": [
    "import pandas as pd\n",
    "import numpy as np\n",
    "from sklearn.decomposition import PCA\n",
    "import matplotlib.pyplot as plt\n",
    "\n",
    "# Load the data\n",
    "data = pd.read_csv('../programming language trend over time.csv') \n",
    "X = data.iloc[:, 1:].values  # Select all rows and columns from index 1 onwards for features\n",
    "y = data.iloc[:, 0].values  # Select all rows for the target variable\n",
    "\n",
    "\n",
    "# Apply PCA\n",
    "pca = PCA(n_components=2)  # Specify the number of components\n",
    "transformed_data = pca.fit_transform(X)  # Fit and transform the data\n",
    "\n",
    "\n",
    "\n"
   ]
  },
  {
   "cell_type": "markdown",
   "metadata": {},
   "source": [
    "#### original"
   ]
  },
  {
   "cell_type": "code",
   "execution_count": 28,
   "metadata": {},
   "outputs": [
    {
     "data": {
      "text/plain": [
       "(262, 4)"
      ]
     },
     "execution_count": 28,
     "metadata": {},
     "output_type": "execute_result"
    }
   ],
   "source": [
    "data.shape"
   ]
  },
  {
   "cell_type": "markdown",
   "metadata": {},
   "source": [
    "#### the reduced dimensionality"
   ]
  },
  {
   "cell_type": "code",
   "execution_count": 3,
   "metadata": {},
   "outputs": [
    {
     "data": {
      "text/plain": [
       "(262, 2)"
      ]
     },
     "execution_count": 3,
     "metadata": {},
     "output_type": "execute_result"
    }
   ],
   "source": [
    "transformed_data.shape"
   ]
  }
 ],
 "metadata": {
  "kernelspec": {
   "display_name": "base",
   "language": "python",
   "name": "python3"
  },
  "language_info": {
   "codemirror_mode": {
    "name": "ipython",
    "version": 3
   },
   "file_extension": ".py",
   "mimetype": "text/x-python",
   "name": "python",
   "nbconvert_exporter": "python",
   "pygments_lexer": "ipython3",
   "version": "3.11.7"
  }
 },
 "nbformat": 4,
 "nbformat_minor": 2
}
