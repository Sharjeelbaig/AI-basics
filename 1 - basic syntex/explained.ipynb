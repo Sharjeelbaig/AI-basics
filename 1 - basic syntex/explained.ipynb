{
 "cells": [
  {
   "cell_type": "markdown",
   "metadata": {},
   "source": [
    "# Basic Syntex\n",
    "The following syntex is used in every algorithm we implement\n",
    "\n",
    "- Import Libraries\n",
    "- Load Data\n",
    "- Split Data\n",
    "- Apply Algorithm\n",
    "\n",
    "#### imports\n",
    "```python\n",
    "import pandas as pd\n",
    "import numpy as np\n",
    "import matplotlib.pyplot as plt\n",
    "```\n",
    "\n",
    "#### Load Data\n",
    "```python\n",
    "data = pd.read_csv('data.csv')\n",
    "```\n",
    "\n",
    "#### Split Data\n",
    "```python\n",
    "X = data.iloc[:, :-1].values # we need X as input features\n",
    "y = data.iloc[:, -1].values # we need y as output features\n",
    "```\n",
    "\n",
    "the capital x (X) and small y (y) are used to represent the input and output features respectively.But their values (after = ) can be anything based on which algorithm we are implementing and what we are trying to achieve.\n",
    "\n",
    "---\n",
    "\n",
    "# Data Preprocessing\n",
    "The following syntex can be different based on the algorithm we are implementing\n",
    "for example, in the case of PCA or dimensionality reduction, we need to scale the data before applying the algorithm.\n",
    "\n",
    "#### Apply Algorithm\n",
    "```python\n",
    "from sklearn.decomposition import PCA\n",
    "pca = PCA(n_components=2)\n",
    "X = pca.fit_transform(X, y)\n",
    "```\n",
    "\n",
    "\n"
   ]
  }
 ],
 "metadata": {
  "kernelspec": {
   "display_name": "base",
   "language": "python",
   "name": "python3"
  },
  "language_info": {
   "codemirror_mode": {
    "name": "ipython",
    "version": 3
   },
   "file_extension": ".py",
   "mimetype": "text/x-python",
   "name": "python",
   "nbconvert_exporter": "python",
   "pygments_lexer": "ipython3",
   "version": "3.11.7"
  }
 },
 "nbformat": 4,
 "nbformat_minor": 2
}
