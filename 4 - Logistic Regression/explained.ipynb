{
 "cells": [
  {
   "cell_type": "markdown",
   "metadata": {},
   "source": [
    "# importing libraries\n",
    "```python\n",
    "import numpy as np\n",
    "import pandas as pd\n",
    "from sklearn.linear_model import LogisticRegression\n",
    "```\n"
   ]
  },
  {
   "cell_type": "markdown",
   "metadata": {},
   "source": [
    "# Loading the data\n",
    "```python\n",
    "ds = pd.read_csv('./dataset.csv')\n",
    "```"
   ]
  },
  {
   "cell_type": "markdown",
   "metadata": {},
   "source": [
    "# get input and output\n",
    "```python\n",
    "X = ds.drop('Cancerous', axis=1).values\n",
    "y = ds['Cancerous'].values\n",
    "```"
   ]
  },
  {
   "cell_type": "markdown",
   "metadata": {},
   "source": [
    "# train the model\n",
    "```python\n",
    "model = LogisticRegression()\n",
    "model.fit(X, y)\n",
    "```\n"
   ]
  },
  {
   "cell_type": "markdown",
   "metadata": {},
   "source": [
    "# get the prediction\n",
    "```python\n",
    "prediction = model.predict(3.11).reshape(-1, 1)\n",
    "```"
   ]
  },
  {
   "cell_type": "code",
   "execution_count": 3,
   "metadata": {},
   "outputs": [
    {
     "name": "stdout",
     "output_type": "stream",
     "text": [
      "The patient does not have cancer\n"
     ]
    }
   ],
   "source": [
    "# importing the required libraries\n",
    "import numpy as np\n",
    "import pandas as pd\n",
    "from sklearn.linear_model import LogisticRegression\n",
    "\n",
    "# loading the dataset\n",
    "data = pd.read_csv('dataset.csv')\n",
    "\n",
    "# defining the features and target variable\n",
    "X = data.drop('Cancerous', axis=1).values\n",
    "y = data['Cancerous'].values\n",
    "\n",
    "# training the model\n",
    "model = LogisticRegression()\n",
    "model.fit(X, y)\n",
    "\n",
    "# predicting the target variable\n",
    "y_pred = model.predict(np.array([1.2]).reshape(-1, 1))\n",
    "if y_pred == 1:\n",
    "    print('The patient has cancer')\n",
    "else:\n",
    "    print('The patient does not have cancer')\n"
   ]
  }
 ],
 "metadata": {
  "kernelspec": {
   "display_name": "base",
   "language": "python",
   "name": "python3"
  },
  "language_info": {
   "codemirror_mode": {
    "name": "ipython",
    "version": 3
   },
   "file_extension": ".py",
   "mimetype": "text/x-python",
   "name": "python",
   "nbconvert_exporter": "python",
   "pygments_lexer": "ipython3",
   "version": "3.11.7"
  }
 },
 "nbformat": 4,
 "nbformat_minor": 2
}
